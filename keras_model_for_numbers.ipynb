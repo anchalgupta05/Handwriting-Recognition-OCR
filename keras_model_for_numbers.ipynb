{
  "nbformat": 4,
  "nbformat_minor": 0,
  "metadata": {
    "colab": {
      "name": "keras_load_custom_data.ipynb",
      "provenance": [],
      "collapsed_sections": [],
      "include_colab_link": true
    },
    "kernelspec": {
      "name": "python3",
      "display_name": "Python 3"
    },
    "language_info": {
      "name": "python"
    }
  },
  "cells": [
    {
      "cell_type": "markdown",
      "metadata": {
        "id": "view-in-github",
        "colab_type": "text"
      },
      "source": [
        "<a href=\"https://colab.research.google.com/github/anchalgupta05/Handwriting-Recognition-OCR/blob/main/keras_model_for_numbers.ipynb\" target=\"_parent\"><img src=\"https://colab.research.google.com/assets/colab-badge.svg\" alt=\"Open In Colab\"/></a>"
      ]
    },
    {
      "cell_type": "code",
      "metadata": {
        "id": "nPyqFwS73KGA"
      },
      "source": [
        "import pandas as pd\n",
        "import numpy as np\n",
        "\n",
        "from keras.preprocessing.image import ImageDataGenerator\n",
        "from keras.datasets import mnist\n",
        "import os"
      ],
      "execution_count": null,
      "outputs": []
    },
    {
      "cell_type": "code",
      "metadata": {
        "colab": {
          "base_uri": "https://localhost:8080/"
        },
        "id": "pdkw5-zinh1P",
        "outputId": "1c7d5a00-3672-42fb-c08b-dc9104696f6a"
      },
      "source": [
        "from google.colab import drive\n",
        "drive.mount('/content/gdrive')"
      ],
      "execution_count": null,
      "outputs": [
        {
          "output_type": "stream",
          "text": [
            "Mounted at /content/gdrive\n"
          ],
          "name": "stdout"
        }
      ]
    },
    {
      "cell_type": "code",
      "metadata": {
        "id": "_rEglQO7NUBR",
        "colab": {
          "base_uri": "https://localhost:8080/"
        },
        "outputId": "680a30f9-048a-451c-9f27-2086f7078041"
      },
      "source": [
        "# load data\n",
        "(X_train, y_train), (X_test, y_test) = mnist.load_data()\n"
      ],
      "execution_count": null,
      "outputs": [
        {
          "output_type": "stream",
          "text": [
            "Downloading data from https://storage.googleapis.com/tensorflow/tf-keras-datasets/mnist.npz\n",
            "11493376/11490434 [==============================] - 0s 0us/step\n"
          ],
          "name": "stdout"
        }
      ]
    },
    {
      "cell_type": "code",
      "metadata": {
        "id": "2dYdaV6NOEol"
      },
      "source": [
        "# Reshaping to format which CNN expects (batch, height, width, channels)\n",
        "X_train = X_train.reshape(X_train.shape[0], X_train.shape[1], X_train.shape[2], 1).astype('float32')\n",
        "X_test = X_test.reshape(X_test.shape[0], X_test.shape[1], X_test.shape[2], 1).astype('float32')"
      ],
      "execution_count": null,
      "outputs": []
    },
    {
      "cell_type": "code",
      "metadata": {
        "id": "woJz6RloWH0_"
      },
      "source": [
        "#img_width, img_height = 28, 28\n",
        "\n",
        "#train_data_dir = '/content/sample_data/numbers/train'\n",
        "#test_data_dir = '/content/sample_data/numbers/test'\n"
      ],
      "execution_count": null,
      "outputs": []
    },
    {
      "cell_type": "code",
      "metadata": {
        "id": "87Ia1gLWY2Wq"
      },
      "source": [
        "import cv2\n",
        "from PIL import Image\n"
      ],
      "execution_count": null,
      "outputs": []
    },
    {
      "cell_type": "code",
      "metadata": {
        "id": "qSdbPbN0OKbj"
      },
      "source": [
        "# To load images to features and labels\n",
        "import matplotlib.pyplot as plt\n",
        "\n",
        "def load_images_to_data(image_label, image_directory, features_data, label_data):\n",
        "    list_of_files = os.listdir(image_directory)\n",
        "    for file in list_of_files:\n",
        "        image_file_name = os.path.join(image_directory, file)\n",
        "        if \".png\" in image_file_name:\n",
        "             opencvImage  = cv2.imread(image_file_name, 0) \n",
        "             opencvImage= cv2.resize(opencvImage,(28,28),interpolation= cv2.INTER_AREA)\n",
        "             #plt.imshow(opencvImage, cmap='gray')\n",
        "             opencvImage = np.resize(opencvImage, (28,28,1))\n",
        "             im2arr = np.array(opencvImage)\n",
        "             im2arr = im2arr.reshape(1,28,28,1)  \n",
        "             features_data = np.append(features_data, im2arr, axis=0)\n",
        "             label_data = np.append(label_data, [image_label], axis=0)\n",
        "    return features_data, label_data"
      ],
      "execution_count": null,
      "outputs": []
    },
    {
      "cell_type": "code",
      "metadata": {
        "id": "7e5htjg_OSEs",
        "colab": {
          "base_uri": "https://localhost:8080/"
        },
        "outputId": "4a94b984-c963-4e0c-ce8f-0c3e5977c4eb"
      },
      "source": [
        "from keras.utils import np_utils\n",
        "from PIL import Image\n",
        "import numpy as np\n",
        "\n",
        "X_train, y_train = load_images_to_data('1', '/content/gdrive/MyDrive/hw-automation/data/train/1/', X_train, y_train)\n",
        "\n",
        "X_train, y_train = load_images_to_data('2', '/content/gdrive/MyDrive/hw-automation/data/train/2/', X_train, y_train)\n",
        "\n",
        "X_train, y_train = load_images_to_data('3', '/content/gdrive/MyDrive/hw-automation/data/train/3/', X_train, y_train)\n",
        "\n",
        "X_train, y_train = load_images_to_data('4', '/content/gdrive/MyDrive/hw-automation/data/train/4/', X_train, y_train)\n",
        "\n",
        "X_train, y_train = load_images_to_data('5', '/content/gdrive/MyDrive/hw-automation/data/train/5/', X_train, y_train)\n",
        "\n",
        "X_train, y_train = load_images_to_data('6', '/content/gdrive/MyDrive/hw-automation/data/train/6/', X_train, y_train)\n",
        "\n",
        "X_train, y_train = load_images_to_data('7', '/content/gdrive/MyDrive/hw-automation/data/train/7/', X_train, y_train)\n",
        "\n",
        "X_train, y_train = load_images_to_data('8', '/content/gdrive/MyDrive/hw-automation/data/train/8/', X_train, y_train)\n",
        "\n",
        "X_train, y_train = load_images_to_data('9', '/content/gdrive/MyDrive/hw-automation/data/train/9/', X_train, y_train)\n",
        "\n",
        "X_train, y_train = load_images_to_data('0', '/content/gdrive/MyDrive/hw-automation/data/train/0/', X_train, y_train)\n",
        "\n",
        "\n",
        "\n"
      ],
      "execution_count": null,
      "outputs": [
        {
          "output_type": "stream",
          "text": [
            "name: /content/gdrive/MyDrive/hw-automation/data/train/1/1-1.png\n",
            "name: /content/gdrive/MyDrive/hw-automation/data/train/2/2.png\n",
            "name: /content/gdrive/MyDrive/hw-automation/data/train/2/Untitled.png\n",
            "name: /content/gdrive/MyDrive/hw-automation/data/train/2/2-1.png\n",
            "name: /content/gdrive/MyDrive/hw-automation/data/train/3/3-1.png\n",
            "name: /content/gdrive/MyDrive/hw-automation/data/train/4/4-1.png\n",
            "name: /content/gdrive/MyDrive/hw-automation/data/train/4/4-2.png\n",
            "name: /content/gdrive/MyDrive/hw-automation/data/train/5/5-1.png\n",
            "name: /content/gdrive/MyDrive/hw-automation/data/train/5/5-2.png\n",
            "name: /content/gdrive/MyDrive/hw-automation/data/train/6/6-1.png\n",
            "name: /content/gdrive/MyDrive/hw-automation/data/train/6/6-2.png\n",
            "name: /content/gdrive/MyDrive/hw-automation/data/train/7/7-1.png\n",
            "name: /content/gdrive/MyDrive/hw-automation/data/train/8/8-1.png\n",
            "name: /content/gdrive/MyDrive/hw-automation/data/train/8/8-2.png\n",
            "name: /content/gdrive/MyDrive/hw-automation/data/train/9/9-1.png\n",
            "name: /content/gdrive/MyDrive/hw-automation/data/train/0/0.png\n"
          ],
          "name": "stdout"
        }
      ]
    },
    {
      "cell_type": "code",
      "metadata": {
        "id": "aAsy3oX_PPYY"
      },
      "source": [
        "# normalize inputs from 0-255 to 0-1\n",
        "X_train/=255\n",
        "X_test/=255"
      ],
      "execution_count": null,
      "outputs": []
    },
    {
      "cell_type": "code",
      "metadata": {
        "id": "qJU71MDMPWb2"
      },
      "source": [
        "number_of_classes = 10\n",
        "y_train = np_utils.to_categorical(y_train, number_of_classes)\n",
        "y_test = np_utils.to_categorical(y_test, number_of_classes)"
      ],
      "execution_count": null,
      "outputs": []
    },
    {
      "cell_type": "code",
      "metadata": {
        "colab": {
          "base_uri": "https://localhost:8080/"
        },
        "id": "O2EPtxotPcg9",
        "outputId": "70b1e866-fe7a-430b-dd2a-f6f48fc84bca"
      },
      "source": [
        "X_train.shape\n"
      ],
      "execution_count": null,
      "outputs": [
        {
          "output_type": "execute_result",
          "data": {
            "text/plain": [
              "(60016, 28, 28, 1)"
            ]
          },
          "metadata": {
            "tags": []
          },
          "execution_count": 14
        }
      ]
    },
    {
      "cell_type": "code",
      "metadata": {
        "colab": {
          "base_uri": "https://localhost:8080/"
        },
        "id": "vVTeDG-GP_Zw",
        "outputId": "7aa6c8ed-5b0f-4ae4-a1bd-9a2a325d7f32"
      },
      "source": [
        "X_test.shape"
      ],
      "execution_count": null,
      "outputs": [
        {
          "output_type": "execute_result",
          "data": {
            "text/plain": [
              "(10000, 28, 28, 1)"
            ]
          },
          "metadata": {
            "tags": []
          },
          "execution_count": 15
        }
      ]
    },
    {
      "cell_type": "code",
      "metadata": {
        "colab": {
          "base_uri": "https://localhost:8080/"
        },
        "id": "sK8Gf4DSUbjQ",
        "outputId": "3790651d-1ff9-4422-fcea-3e2e42b68e20"
      },
      "source": [
        "y_train.shape"
      ],
      "execution_count": null,
      "outputs": [
        {
          "output_type": "execute_result",
          "data": {
            "text/plain": [
              "(60016, 10)"
            ]
          },
          "metadata": {
            "tags": []
          },
          "execution_count": 16
        }
      ]
    },
    {
      "cell_type": "code",
      "metadata": {
        "colab": {
          "base_uri": "https://localhost:8080/"
        },
        "id": "03Q68cZEUen0",
        "outputId": "95cb23f5-338a-4f73-d195-fb996faa701e"
      },
      "source": [
        "y_test.shape"
      ],
      "execution_count": null,
      "outputs": [
        {
          "output_type": "execute_result",
          "data": {
            "text/plain": [
              "(10000, 10)"
            ]
          },
          "metadata": {
            "tags": []
          },
          "execution_count": 17
        }
      ]
    },
    {
      "cell_type": "code",
      "metadata": {
        "colab": {
          "base_uri": "https://localhost:8080/",
          "height": 282
        },
        "id": "1kl0Wse_Gmyt",
        "outputId": "0a50d5ba-2a07-4259-d9ef-257440e3c2fe"
      },
      "source": [
        "import matplotlib.pyplot as plt\n",
        "my_number =  X_train[60004]\n",
        "plt.imshow(my_number.reshape(28,28))"
      ],
      "execution_count": null,
      "outputs": [
        {
          "output_type": "execute_result",
          "data": {
            "text/plain": [
              "<matplotlib.image.AxesImage at 0x7fc4d257b6d0>"
            ]
          },
          "metadata": {
            "tags": []
          },
          "execution_count": 25
        },
        {
          "output_type": "display_data",
          "data": {
            "image/png": "[encoded data removed]",
            "text/plain": [
              "<Figure size 432x288 with 1 Axes>"
            ]
          },
          "metadata": {
            "tags": [],
            "needs_background": "light"
          }
        }
      ]
    },
    {
      "cell_type": "code",
      "metadata": {
        "id": "zZ3SQhfKQPTP"
      },
      "source": [
        "from tensorflow.keras.models import Sequential\n",
        "from tensorflow.keras.layers import Dense, Conv2D, MaxPool2D, Flatten\n"
      ],
      "execution_count": null,
      "outputs": []
    },
    {
      "cell_type": "code",
      "metadata": {
        "id": "N-0dRVdONE6L"
      },
      "source": [
        "model = Sequential()\n",
        " #CONVOLUTIONAL LAYER\n",
        "model.add(Conv2D(filters=32, kernel_size=(4,4),input_shape=(28, 28, 1), activation='relu',))\n",
        "\n",
        "# POOLING LAYER\n",
        "model.add(MaxPool2D(pool_size=(2, 2)))\n",
        "\n",
        "# FLATTEN IMAGES FROM 28 by 28 to 764 BEFORE FINAL LAYER\n",
        "model.add(Flatten())\n",
        "\n",
        "# 128 NEURONS IN DENSE HIDDEN LAYER (YOU CAN CHANGE THIS NUMBER OF NEURONS)\n",
        "model.add(Dense(128, activation='relu'))\n",
        "\n",
        "# LAST LAYER IS THE CLASSIFIER, THUS 10 POSSIBLE CLASSES\n",
        "model.add(Dense(10, activation='softmax'))\n",
        "\n",
        "# https://keras.io/metrics/\n",
        "model.compile(loss='categorical_crossentropy',\n",
        "              optimizer='adam',\n",
        "              metrics=['accuracy']) # we can add in additional metrics https://keras.io/metrics/"
      ],
      "execution_count": null,
      "outputs": []
    },
    {
      "cell_type": "code",
      "metadata": {
        "colab": {
          "base_uri": "https://localhost:8080/"
        },
        "id": "-XsuHlOhQe02",
        "outputId": "9246f38e-8ddc-45b6-92cb-e3b46e4b11de"
      },
      "source": [
        "model.summary()"
      ],
      "execution_count": null,
      "outputs": [
        {
          "output_type": "stream",
          "text": [
            "Model: \"sequential\"\n",
            "_________________________________________________________________\n",
            "Layer (type)                 Output Shape              Param #   \n",
            "=================================================================\n",
            "conv2d (Conv2D)              (None, 25, 25, 32)        544       \n",
            "_________________________________________________________________\n",
            "max_pooling2d (MaxPooling2D) (None, 12, 12, 32)        0         \n",
            "_________________________________________________________________\n",
            "flatten (Flatten)            (None, 4608)              0         \n",
            "_________________________________________________________________\n",
            "dense (Dense)                (None, 128)               589952    \n",
            "_________________________________________________________________\n",
            "dense_1 (Dense)              (None, 10)                1290      \n",
            "=================================================================\n",
            "Total params: 591,786\n",
            "Trainable params: 591,786\n",
            "Non-trainable params: 0\n",
            "_________________________________________________________________\n"
          ],
          "name": "stdout"
        }
      ]
    },
    {
      "cell_type": "code",
      "metadata": {
        "id": "k-t9ITUjQgAy"
      },
      "source": [
        "from tensorflow.keras.callbacks import EarlyStopping"
      ],
      "execution_count": null,
      "outputs": []
    },
    {
      "cell_type": "code",
      "metadata": {
        "id": "vdswxNpUQqYB"
      },
      "source": [
        "early_stop = EarlyStopping(monitor='val_loss',patience=2)"
      ],
      "execution_count": null,
      "outputs": []
    },
    {
      "cell_type": "code",
      "metadata": {
        "colab": {
          "base_uri": "https://localhost:8080/"
        },
        "id": "rZJcdsEUQvf0",
        "outputId": "4e5182e3-c6a5-4f8b-cf90-1029fc8114ff"
      },
      "source": [
        "model.fit(X_train,y_train,epochs=10,validation_data=(X_test,y_test),callbacks=[early_stop])"
      ],
      "execution_count": null,
      "outputs": [
        {
          "output_type": "stream",
          "text": [
            "Epoch 1/10\n",
            "1876/1876 [==============================] - 31s 16ms/step - loss: 0.2870 - accuracy: 0.9147 - val_loss: 0.0538 - val_accuracy: 0.9821\n",
            "Epoch 2/10\n",
            "1876/1876 [==============================] - 30s 16ms/step - loss: 0.0560 - accuracy: 0.9827 - val_loss: 0.0404 - val_accuracy: 0.9871\n",
            "Epoch 3/10\n",
            "1876/1876 [==============================] - 31s 16ms/step - loss: 0.0304 - accuracy: 0.9909 - val_loss: 0.0439 - val_accuracy: 0.9858\n",
            "Epoch 4/10\n",
            "1876/1876 [==============================] - 32s 17ms/step - loss: 0.0223 - accuracy: 0.9933 - val_loss: 0.0368 - val_accuracy: 0.9882\n",
            "Epoch 5/10\n",
            "1876/1876 [==============================] - 32s 17ms/step - loss: 0.0135 - accuracy: 0.9956 - val_loss: 0.0423 - val_accuracy: 0.9867\n",
            "Epoch 6/10\n",
            "1876/1876 [==============================] - 30s 16ms/step - loss: 0.0105 - accuracy: 0.9968 - val_loss: 0.0474 - val_accuracy: 0.9870\n"
          ],
          "name": "stdout"
        },
        {
          "output_type": "execute_result",
          "data": {
            "text/plain": [
              "<tensorflow.python.keras.callbacks.History at 0x7fc4cecfea90>"
            ]
          },
          "metadata": {
            "tags": []
          },
          "execution_count": 31
        }
      ]
    },
    {
      "cell_type": "code",
      "metadata": {
        "colab": {
          "base_uri": "https://localhost:8080/"
        },
        "id": "4tYou_aTVqd-",
        "outputId": "8a869132-7f9b-47e2-986b-e2aeb4893418"
      },
      "source": [
        "model.metrics_names"
      ],
      "execution_count": null,
      "outputs": [
        {
          "output_type": "execute_result",
          "data": {
            "text/plain": [
              "['loss', 'accuracy']"
            ]
          },
          "metadata": {
            "tags": []
          },
          "execution_count": 32
        }
      ]
    },
    {
      "cell_type": "code",
      "metadata": {
        "id": "EEMuIgVZVt99"
      },
      "source": [
        "losses = pd.DataFrame(model.history.history)"
      ],
      "execution_count": null,
      "outputs": []
    },
    {
      "cell_type": "code",
      "metadata": {
        "colab": {
          "base_uri": "https://localhost:8080/",
          "height": 204
        },
        "id": "yl5SuBe_V0EJ",
        "outputId": "93d88b9c-12b1-43fc-c7e1-1e9de55cafce"
      },
      "source": [
        "losses.head()"
      ],
      "execution_count": null,
      "outputs": [
        {
          "output_type": "execute_result",
          "data": {
            "text/html": [
              "<div>\n",
              "<style scoped>\n",
              "    .dataframe tbody tr th:only-of-type {\n",
              "        vertical-align: middle;\n",
              "    }\n",
              "\n",
              "    .dataframe tbody tr th {\n",
              "        vertical-align: top;\n",
              "    }\n",
              "\n",
              "    .dataframe thead th {\n",
              "        text-align: right;\n",
              "    }\n",
              "</style>\n",
              "<table border=\"1\" class=\"dataframe\">\n",
              "  <thead>\n",
              "    <tr style=\"text-align: right;\">\n",
              "      <th></th>\n",
              "      <th>loss</th>\n",
              "      <th>accuracy</th>\n",
              "      <th>val_loss</th>\n",
              "      <th>val_accuracy</th>\n",
              "    </tr>\n",
              "  </thead>\n",
              "  <tbody>\n",
              "    <tr>\n",
              "      <th>0</th>\n",
              "      <td>0.141604</td>\n",
              "      <td>0.957628</td>\n",
              "      <td>0.053820</td>\n",
              "      <td>0.9821</td>\n",
              "    </tr>\n",
              "    <tr>\n",
              "      <th>1</th>\n",
              "      <td>0.051226</td>\n",
              "      <td>0.984121</td>\n",
              "      <td>0.040411</td>\n",
              "      <td>0.9871</td>\n",
              "    </tr>\n",
              "    <tr>\n",
              "      <th>2</th>\n",
              "      <td>0.032180</td>\n",
              "      <td>0.989886</td>\n",
              "      <td>0.043884</td>\n",
              "      <td>0.9858</td>\n",
              "    </tr>\n",
              "    <tr>\n",
              "      <th>3</th>\n",
              "      <td>0.022223</td>\n",
              "      <td>0.993035</td>\n",
              "      <td>0.036795</td>\n",
              "      <td>0.9882</td>\n",
              "    </tr>\n",
              "    <tr>\n",
              "      <th>4</th>\n",
              "      <td>0.015509</td>\n",
              "      <td>0.994935</td>\n",
              "      <td>0.042284</td>\n",
              "      <td>0.9867</td>\n",
              "    </tr>\n",
              "  </tbody>\n",
              "</table>\n",
              "</div>"
            ],
            "text/plain": [
              "       loss  accuracy  val_loss  val_accuracy\n",
              "0  0.141604  0.957628  0.053820        0.9821\n",
              "1  0.051226  0.984121  0.040411        0.9871\n",
              "2  0.032180  0.989886  0.043884        0.9858\n",
              "3  0.022223  0.993035  0.036795        0.9882\n",
              "4  0.015509  0.994935  0.042284        0.9867"
            ]
          },
          "metadata": {
            "tags": []
          },
          "execution_count": 34
        }
      ]
    },
    {
      "cell_type": "code",
      "metadata": {
        "colab": {
          "base_uri": "https://localhost:8080/",
          "height": 282
        },
        "id": "MCJQ2QzAV4Nb",
        "outputId": "f1b022fc-f3c6-4f18-cb93-4ad248f6672e"
      },
      "source": [
        "losses[['accuracy','val_accuracy']].plot()"
      ],
      "execution_count": null,
      "outputs": [
        {
          "output_type": "execute_result",
          "data": {
            "text/plain": [
              "<matplotlib.axes._subplots.AxesSubplot at 0x7fc4cc463690>"
            ]
          },
          "metadata": {
            "tags": []
          },
          "execution_count": 35
        },
        {
          "output_type": "display_data",
          "data": {
            "image/png": "[encoded data removed]",
            "text/plain": [
              "<Figure size 432x288 with 1 Axes>"
            ]
          },
          "metadata": {
            "tags": [],
            "needs_background": "light"
          }
        }
      ]
    },
    {
      "cell_type": "code",
      "metadata": {
        "colab": {
          "base_uri": "https://localhost:8080/"
        },
        "id": "CmDLDXo1V-_O",
        "outputId": "51901476-1196-4d75-d103-30e7f0809cde"
      },
      "source": [
        "print(model.metrics_names)\n",
        "print(model.evaluate(X_test,y_test,verbose=0))"
      ],
      "execution_count": null,
      "outputs": [
        {
          "output_type": "stream",
          "text": [
            "['loss', 'accuracy']\n",
            "[0.0473981648683548, 0.9869999885559082]\n"
          ],
          "name": "stdout"
        }
      ]
    },
    {
      "cell_type": "code",
      "metadata": {
        "id": "zgr-M7v7XG-z"
      },
      "source": [
        "from sklearn.metrics import classification_report,confusion_matrix"
      ],
      "execution_count": null,
      "outputs": []
    },
    {
      "cell_type": "code",
      "metadata": {
        "colab": {
          "base_uri": "https://localhost:8080/"
        },
        "id": "7VwuTO1LXOTY",
        "outputId": "19e9c7de-5253-4209-8779-885a26dd01f1"
      },
      "source": [
        "predictions = model.predict_classes(X_test)"
      ],
      "execution_count": null,
      "outputs": [
        {
          "output_type": "stream",
          "text": [
            "/usr/local/lib/python3.7/dist-packages/tensorflow/python/keras/engine/sequential.py:450: UserWarning: `model.predict_classes()` is deprecated and will be removed after 2021-01-01. Please use instead:* `np.argmax(model.predict(x), axis=-1)`,   if your model does multi-class classification   (e.g. if it uses a `softmax` last-layer activation).* `(model.predict(x) > 0.5).astype(\"int32\")`,   if your model does binary classification   (e.g. if it uses a `sigmoid` last-layer activation).\n",
            "  warnings.warn('`model.predict_classes()` is deprecated and '\n"
          ],
          "name": "stderr"
        }
      ]
    },
    {
      "cell_type": "code",
      "metadata": {
        "colab": {
          "base_uri": "https://localhost:8080/"
        },
        "id": "-0JML7PlXWia",
        "outputId": "c60be761-665d-4ea0-d5e1-995d77516b66"
      },
      "source": [
        "y_test.shape"
      ],
      "execution_count": null,
      "outputs": [
        {
          "output_type": "execute_result",
          "data": {
            "text/plain": [
              "(10000, 10)"
            ]
          },
          "metadata": {
            "tags": []
          },
          "execution_count": 39
        }
      ]
    },
    {
      "cell_type": "code",
      "metadata": {
        "colab": {
          "base_uri": "https://localhost:8080/"
        },
        "id": "S4_fNC2fXcKl",
        "outputId": "4619e373-0881-43b8-c76a-2d05cc43b13f"
      },
      "source": [
        "y_test[9999]"
      ],
      "execution_count": null,
      "outputs": [
        {
          "output_type": "execute_result",
          "data": {
            "text/plain": [
              "array([0., 0., 0., 0., 0., 0., 1., 0., 0., 0.], dtype=float32)"
            ]
          },
          "metadata": {
            "tags": []
          },
          "execution_count": 41
        }
      ]
    },
    {
      "cell_type": "code",
      "metadata": {
        "colab": {
          "base_uri": "https://localhost:8080/"
        },
        "id": "EAoiTytNXheI",
        "outputId": "2873869b-53ef-44bd-aa08-6ca172b02b81"
      },
      "source": [
        "predictions[9999]"
      ],
      "execution_count": null,
      "outputs": [
        {
          "output_type": "execute_result",
          "data": {
            "text/plain": [
              "6"
            ]
          },
          "metadata": {
            "tags": []
          },
          "execution_count": 42
        }
      ]
    },
    {
      "cell_type": "code",
      "metadata": {
        "colab": {
          "base_uri": "https://localhost:8080/"
        },
        "id": "Sc85g-V5XnbR",
        "outputId": "b47f287e-0441-4da2-9a9e-c94dda39d61f"
      },
      "source": [
        "y_test[0]"
      ],
      "execution_count": null,
      "outputs": [
        {
          "output_type": "execute_result",
          "data": {
            "text/plain": [
              "array([0., 0., 0., 0., 0., 0., 0., 1., 0., 0.], dtype=float32)"
            ]
          },
          "metadata": {
            "tags": []
          },
          "execution_count": 44
        }
      ]
    },
    {
      "cell_type": "code",
      "metadata": {
        "colab": {
          "base_uri": "https://localhost:8080/"
        },
        "id": "Llm1R1vQXtsZ",
        "outputId": "56d695e2-c9e2-4050-dc77-b5178f3c8dd7"
      },
      "source": [
        "predictions[0]"
      ],
      "execution_count": null,
      "outputs": [
        {
          "output_type": "execute_result",
          "data": {
            "text/plain": [
              "7"
            ]
          },
          "metadata": {
            "tags": []
          },
          "execution_count": 46
        }
      ]
    }
  ]
}